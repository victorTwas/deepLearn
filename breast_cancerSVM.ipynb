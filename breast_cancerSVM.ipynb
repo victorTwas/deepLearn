{
 "cells": [
  {
   "cell_type": "code",
   "execution_count": null,
   "metadata": {},
   "outputs": [],
   "source": [
    "import pandas as pd \n",
    "import numpy as np \n",
    "import matplotlib.pyplot as  plt \n",
    "from sklearn import datasets \n",
    "from sklearn.model_selection import train_test_split \n",
    "from sklearn import  svm \n",
    "from sklearn import metrics \n",
    "\n",
    "\n",
    "cancer_data = datasets.load_breast_cancer() # load the dataset\n",
    "#print(cancer_data['target'])\n",
    "\n",
    "# the following splits the datasets into training and testing data\n",
    "x_train, x_test, y_train, y_test = train_test_split(cancer_data.data, cancer_data.target, test_size=0.4, random_state=209 )\n",
    "\n",
    "# the following generates the model using the classifier\n",
    "cls = svm.SVC(kernel =\"linear\")\n",
    "\n",
    "# training the model\n",
    "cls.fit(x_train, y_train )\n",
    "\n",
    "# the following predicts the response \n",
    "pred = cls.predict( x_test )\n",
    "\n",
    "print(\"accuracy:\",metrics.accuracy_score(y_test,y_pred=pred) )\n",
    "\n",
    "print(\"precision:\",metrics.precision_score(y_test,y_pred=pred) )\n",
    "\n",
    "print(\"recall:\",metrics.recall_score(y_test,y_pred=pred) )\n",
    "\n",
    "print(metrics.classification_report(y_test,y_pred=pred) )\n",
    "\n",
    "\n",
    "\n",
    "\n",
    "\n"
   ]
  }
 ],
 "metadata": {
  "kernelspec": {
   "display_name": "Python 3.10.2 64-bit",
   "language": "python",
   "name": "python3"
  },
  "language_info": {
   "codemirror_mode": {
    "name": "ipython",
    "version": 3
   },
   "file_extension": ".py",
   "mimetype": "text/x-python",
   "name": "python",
   "nbconvert_exporter": "python",
   "pygments_lexer": "ipython3",
   "version": "3.10.2"
  },
  "orig_nbformat": 4,
  "vscode": {
   "interpreter": {
    "hash": "15a89927e34f508953c4804c950d6132b0eb2f45fa9bbb2b5b0b903684a402b1"
   }
  }
 },
 "nbformat": 4,
 "nbformat_minor": 2
}
