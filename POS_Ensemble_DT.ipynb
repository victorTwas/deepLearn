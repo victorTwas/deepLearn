{
 "cells": [
  {
   "cell_type": "code",
   "execution_count": 156,
   "metadata": {},
   "outputs": [],
   "source": [
    "import datetime\n",
    "from datetime import timedelta\n",
    "import matplotlib.pyplot as mt\n",
    "import numpy as np\n",
    "import pandas as pd\n",
    "import seaborn as sns\n",
    "import matplotlib.pyplot as plt\n",
    "from sklearn.metrics import classification_report, confusion_matrix\n",
    "from sklearn import metrics\n",
    "from collections import Counter\n",
    "from sklearn.metrics import mean_squared_error\n",
    "from sklearn.metrics import mean_absolute_error\n",
    "from sklearn.metrics import r2_score\n",
    "from sklearn.metrics import accuracy_score\n",
    "from sklearn.model_selection import train_test_split\n",
    "from sklearn.preprocessing import LabelEncoder, OneHotEncoder\n",
    "from sklearn.ensemble import BaggingClassifier\n",
    "from sklearn.preprocessing import StandardScaler\n",
    "from sklearn.tree import DecisionTreeClassifier\n"
   ]
  },
  {
   "cell_type": "code",
   "execution_count": 157,
   "metadata": {},
   "outputs": [
    {
     "data": {
      "text/html": [
       "<div>\n",
       "<style scoped>\n",
       "    .dataframe tbody tr th:only-of-type {\n",
       "        vertical-align: middle;\n",
       "    }\n",
       "\n",
       "    .dataframe tbody tr th {\n",
       "        vertical-align: top;\n",
       "    }\n",
       "\n",
       "    .dataframe thead th {\n",
       "        text-align: right;\n",
       "    }\n",
       "</style>\n",
       "<table border=\"1\" class=\"dataframe\">\n",
       "  <thead>\n",
       "    <tr style=\"text-align: right;\">\n",
       "      <th></th>\n",
       "      <th>WorkstationGroupID</th>\n",
       "      <th>TranID</th>\n",
       "      <th>BeginDateTime</th>\n",
       "      <th>EndDateTime</th>\n",
       "      <th>TranTime</th>\n",
       "      <th>BreakTime</th>\n",
       "      <th>ArtNum</th>\n",
       "      <th>TNcash</th>\n",
       "      <th>TNcard</th>\n",
       "      <th>Amount</th>\n",
       "      <th>OperatorID</th>\n",
       "    </tr>\n",
       "  </thead>\n",
       "  <tbody>\n",
       "    <tr>\n",
       "      <th>0</th>\n",
       "      <td>1</td>\n",
       "      <td>1.900000e+13</td>\n",
       "      <td>2019-02-23 14:35:12</td>\n",
       "      <td>2019-02-23 14:35:12</td>\n",
       "      <td>0</td>\n",
       "      <td>2</td>\n",
       "      <td>1</td>\n",
       "      <td>False</td>\n",
       "      <td>False</td>\n",
       "      <td>1.79</td>\n",
       "      <td>101</td>\n",
       "    </tr>\n",
       "    <tr>\n",
       "      <th>1</th>\n",
       "      <td>1</td>\n",
       "      <td>1.900000e+11</td>\n",
       "      <td>2019-02-13 07:50:14</td>\n",
       "      <td>2019-02-13 07:50:23</td>\n",
       "      <td>9</td>\n",
       "      <td>17</td>\n",
       "      <td>3</td>\n",
       "      <td>True</td>\n",
       "      <td>False</td>\n",
       "      <td>13.19</td>\n",
       "      <td>101</td>\n",
       "    </tr>\n",
       "    <tr>\n",
       "      <th>2</th>\n",
       "      <td>1</td>\n",
       "      <td>1.900000e+11</td>\n",
       "      <td>2019-02-13 07:50:40</td>\n",
       "      <td>2019-02-13 07:51:01</td>\n",
       "      <td>21</td>\n",
       "      <td>209</td>\n",
       "      <td>6</td>\n",
       "      <td>True</td>\n",
       "      <td>False</td>\n",
       "      <td>21.20</td>\n",
       "      <td>101</td>\n",
       "    </tr>\n",
       "    <tr>\n",
       "      <th>3</th>\n",
       "      <td>1</td>\n",
       "      <td>1.900000e+11</td>\n",
       "      <td>2019-02-13 07:54:30</td>\n",
       "      <td>2019-02-13 07:55:05</td>\n",
       "      <td>35</td>\n",
       "      <td>16</td>\n",
       "      <td>1</td>\n",
       "      <td>True</td>\n",
       "      <td>False</td>\n",
       "      <td>106.20</td>\n",
       "      <td>101</td>\n",
       "    </tr>\n",
       "    <tr>\n",
       "      <th>4</th>\n",
       "      <td>1</td>\n",
       "      <td>1.900000e+11</td>\n",
       "      <td>2019-02-13 07:55:21</td>\n",
       "      <td>2019-02-13 07:55:27</td>\n",
       "      <td>6</td>\n",
       "      <td>17</td>\n",
       "      <td>1</td>\n",
       "      <td>True</td>\n",
       "      <td>False</td>\n",
       "      <td>106.20</td>\n",
       "      <td>101</td>\n",
       "    </tr>\n",
       "    <tr>\n",
       "      <th>5</th>\n",
       "      <td>1</td>\n",
       "      <td>1.900000e+12</td>\n",
       "      <td>2019-02-13 07:55:44</td>\n",
       "      <td>2019-02-13 07:55:51</td>\n",
       "      <td>7</td>\n",
       "      <td>30</td>\n",
       "      <td>1</td>\n",
       "      <td>True</td>\n",
       "      <td>False</td>\n",
       "      <td>106.20</td>\n",
       "      <td>101</td>\n",
       "    </tr>\n",
       "  </tbody>\n",
       "</table>\n",
       "</div>"
      ],
      "text/plain": [
       "   WorkstationGroupID        TranID       BeginDateTime         EndDateTime  \\\n",
       "0                   1  1.900000e+13 2019-02-23 14:35:12 2019-02-23 14:35:12   \n",
       "1                   1  1.900000e+11 2019-02-13 07:50:14 2019-02-13 07:50:23   \n",
       "2                   1  1.900000e+11 2019-02-13 07:50:40 2019-02-13 07:51:01   \n",
       "3                   1  1.900000e+11 2019-02-13 07:54:30 2019-02-13 07:55:05   \n",
       "4                   1  1.900000e+11 2019-02-13 07:55:21 2019-02-13 07:55:27   \n",
       "5                   1  1.900000e+12 2019-02-13 07:55:44 2019-02-13 07:55:51   \n",
       "\n",
       "   TranTime  BreakTime  ArtNum  TNcash  TNcard  Amount  OperatorID  \n",
       "0         0          2       1   False   False    1.79         101  \n",
       "1         9         17       3    True   False   13.19         101  \n",
       "2        21        209       6    True   False   21.20         101  \n",
       "3        35         16       1    True   False  106.20         101  \n",
       "4         6         17       1    True   False  106.20         101  \n",
       "5         7         30       1    True   False  106.20         101  "
      ]
     },
     "execution_count": 157,
     "metadata": {},
     "output_type": "execute_result"
    }
   ],
   "source": [
    "data = pd.read_csv(\"POS_transactions_svm.csv\")\n",
    "data.head()\n",
    "#print(df)\n",
    "\n",
    "\n",
    "\n",
    "df = pd.DataFrame(data)\n",
    "df['BeginDateTime'] = pd.to_datetime(df['BeginDateTime'], format='%Y-%m-%d %H:%M:%S') # convert the date/time into datetime64\n",
    "df['EndDateTime'] = pd.to_datetime(df['EndDateTime'], format='%Y-%m-%d %H:%M:%S')\n",
    "data.head(6)"
   ]
  },
  {
   "cell_type": "code",
   "execution_count": 158,
   "metadata": {},
   "outputs": [],
   "source": [
    "#create additional features from the Begindate/time\n",
    "df['BeginYear'] = df['BeginDateTime'].dt.year\n",
    "df['BeginMonth'] = df['BeginDateTime'].dt.month \n",
    "df['BeginDay'] = df['BeginDateTime'].dt.day\n",
    "#extract the time features\n",
    "df['BeginHour'] = df['BeginDateTime'].dt.hour\n",
    "df['BeginMinute'] = df['BeginDateTime'].dt.minute\n",
    "df['BeginSecond'] = df['BeginDateTime'].dt.second\n",
    "\n",
    "#create additional features for EndDateTime\n",
    "df['EndYear'] = df['EndDateTime'].dt.year\n",
    "df['EndMonth'] = df['EndDateTime'].dt.month \n",
    "df['EndDay'] = df['EndDateTime'].dt.day\n",
    "#extract the time features\n",
    "df['EndHour'] = df['EndDateTime'].dt.hour\n",
    "df['EndMinute'] = df['EndDateTime'].dt.minute\n",
    "df['EndSecond'] = df['EndDateTime'].dt.second\n",
    "\n",
    "\n",
    "#df.head(5)"
   ]
  },
  {
   "cell_type": "code",
   "execution_count": 159,
   "metadata": {},
   "outputs": [],
   "source": [
    "#print(df.corr())\n",
    "#print(df.dtypes)\n",
    "# using label encoder on categorical variables\n",
    "df[['TNcard','TNcash']] = df[['TNcard','TNcash']].apply(LabelEncoder().fit_transform)\n",
    "df = df.drop(columns=['BeginDateTime'], axis=0)\n",
    "df = df.drop(columns=['EndDateTime'], axis=3)\n",
    "#print(df.head(5))\n"
   ]
  },
  {
   "cell_type": "code",
   "execution_count": 160,
   "metadata": {},
   "outputs": [
    {
     "data": {
      "text/plain": [
       "0        101\n",
       "1        101\n",
       "2        101\n",
       "3        101\n",
       "4        101\n",
       "        ... \n",
       "47061    606\n",
       "47062    606\n",
       "47063    606\n",
       "47064    606\n",
       "47065    606\n",
       "Name: OperatorID, Length: 47066, dtype: int64"
      ]
     },
     "execution_count": 160,
     "metadata": {},
     "output_type": "execute_result"
    }
   ],
   "source": [
    "X=df[['WorkstationGroupID','TranID','TranTime','BreakTime','ArtNum','TNcash','TNcard','ArtNum','Amount','OperatorID']]\n",
    "\n",
    "X=df.drop('WorkstationGroupID', axis=1)\n",
    "X = df.iloc[:,1:-13]\n",
    "\n",
    "\n",
    "\n",
    "y= df.iloc[:,-13]\n",
    "y\n",
    "\n"
   ]
  },
  {
   "cell_type": "code",
   "execution_count": 161,
   "metadata": {},
   "outputs": [],
   "source": [
    "#split my df\n",
    "X_train, X_test, y_train, y_test = train_test_split(X,y,test_size=0.3, random_state=40)\n",
    "#X_train.head(5)\n",
    "#X_test.head(5)\n"
   ]
  },
  {
   "cell_type": "code",
   "execution_count": 162,
   "metadata": {},
   "outputs": [
    {
     "data": {
      "text/plain": [
       "array([[ 1.13009239,  0.55583303, -0.1074037 , ..., -1.10667439,\n",
       "         1.10579245, -0.34303075],\n",
       "       [ 1.13009239,  0.6780624 ,  0.38348011, ..., -1.10667439,\n",
       "         1.10579245, -0.2262623 ],\n",
       "       [ 1.13009239, -0.61407671,  0.0698599 , ...,  0.90360815,\n",
       "        -0.90432883, -0.63539951],\n",
       "       ...,\n",
       "       [-0.8502849 , -0.50930868, -0.38011693, ...,  0.90360815,\n",
       "        -0.90432883, -0.40595526],\n",
       "       [ 1.13009239,  2.19719893,  0.39711577, ..., -1.10667439,\n",
       "         1.10579245,  0.27713378],\n",
       "       [ 1.13009239, -0.36961796, -0.32557428, ...,  0.90360815,\n",
       "        -0.90432883,  0.57397888]])"
      ]
     },
     "execution_count": 162,
     "metadata": {},
     "output_type": "execute_result"
    }
   ],
   "source": [
    "# we begin the scalling\n",
    "scaler = StandardScaler()\n",
    "#fit the scaler to the parameters\n",
    "X_train = scaler.fit_transform(X_train) \n",
    "X_test = scaler.transform(X_test)\n",
    "X_train\n",
    "\n"
   ]
  },
  {
   "cell_type": "code",
   "execution_count": 163,
   "metadata": {},
   "outputs": [],
   "source": [
    "dcc_t = DecisionTreeClassifier()\n",
    "bagg_model = BaggingClassifier(base_estimator=dcc_t, n_estimators=75, bootstrap=True)\n",
    "bagg_model = bagg_model.fit(X_train,y_train)\n",
    "#X_train.head"
   ]
  },
  {
   "cell_type": "code",
   "execution_count": 164,
   "metadata": {},
   "outputs": [
    {
     "name": "stdout",
     "output_type": "stream",
     "text": [
      "[125 338 332 ... 342 125 268]\n"
     ]
    }
   ],
   "source": [
    "#predict my model\n",
    "dct_pred = bagg_model.predict(X_test)\n",
    "print(dct_pred)"
   ]
  },
  {
   "cell_type": "code",
   "execution_count": 165,
   "metadata": {},
   "outputs": [
    {
     "data": {
      "text/plain": [
       "<matplotlib.collections.PathCollection at 0x22f57ccf4f0>"
      ]
     },
     "execution_count": 165,
     "metadata": {},
     "output_type": "execute_result"
    },
    {
     "data": {
      "image/png": "[encoded data removed]",
      "text/plain": [
       "<Figure size 432x288 with 1 Axes>"
      ]
     },
     "metadata": {
      "needs_background": "light"
     },
     "output_type": "display_data"
    }
   ],
   "source": [
    "#plot a scatter to see pred\n",
    "plt.scatter(y_test, dct_pred)"
   ]
  },
  {
   "cell_type": "code",
   "execution_count": 166,
   "metadata": {},
   "outputs": [
    {
     "data": {
      "text/plain": [
       "15282      0\n",
       "40077      0\n",
       "3436    -228\n",
       "4440       5\n",
       "41058      0\n",
       "        ... \n",
       "14388     14\n",
       "33447     55\n",
       "5231    -236\n",
       "19933      8\n",
       "27250      0\n",
       "Name: OperatorID, Length: 14120, dtype: int64"
      ]
     },
     "execution_count": 166,
     "metadata": {},
     "output_type": "execute_result"
    }
   ],
   "source": [
    "# plot  the residua;s/errors\n",
    "residuals = y_test - dct_pred\n",
    "residuals"
   ]
  },
  {
   "cell_type": "code",
   "execution_count": 167,
   "metadata": {},
   "outputs": [
    {
     "data": {
      "text/plain": [
       "<seaborn.axisgrid.FacetGrid at 0x22f57c7f5b0>"
      ]
     },
     "execution_count": 167,
     "metadata": {},
     "output_type": "execute_result"
    },
    {
     "data": {
      "image/png": "[encoded data removed]",
      "text/plain": [
       "<Figure size 360x360 with 1 Axes>"
      ]
     },
     "metadata": {
      "needs_background": "light"
     },
     "output_type": "display_data"
    }
   ],
   "source": [
    "#plot residuals\n",
    "sns.displot(residuals, kind=\"kde\")"
   ]
  },
  {
   "cell_type": "code",
   "execution_count": 168,
   "metadata": {},
   "outputs": [
    {
     "data": {
      "text/plain": [
       "<matplotlib.collections.PathCollection at 0x22f014cd1e0>"
      ]
     },
     "execution_count": 168,
     "metadata": {},
     "output_type": "execute_result"
    },
    {
     "data": {
      "image/png": "[encoded data removed]",
      "text/plain": [
       "<Figure size 432x288 with 1 Axes>"
      ]
     },
     "metadata": {
      "needs_background": "light"
     },
     "output_type": "display_data"
    }
   ],
   "source": [
    "#scatter graph between residuals and pred\n",
    "plt.scatter(residuals, dct_pred)"
   ]
  },
  {
   "cell_type": "code",
   "execution_count": 169,
   "metadata": {},
   "outputs": [
    {
     "name": "stdout",
     "output_type": "stream",
     "text": [
      "86.97932011331444\n",
      "20291.575212464588\n",
      "9.326270428918221\n"
     ]
    }
   ],
   "source": [
    "print(mean_absolute_error(y_test, dct_pred))\n",
    "print(mean_squared_error(y_test, dct_pred))\n",
    "print(np.sqrt(mean_absolute_error(y_test, dct_pred)))"
   ]
  },
  {
   "cell_type": "code",
   "execution_count": 170,
   "metadata": {},
   "outputs": [
    {
     "name": "stdout",
     "output_type": "stream",
     "text": [
      "-0.6364825098051787\n"
     ]
    }
   ],
   "source": [
    "#cal the R2-score\n",
    "score = r2_score(y_test, dct_pred)\n",
    "print(score)\n"
   ]
  },
  {
   "cell_type": "code",
   "execution_count": 171,
   "metadata": {},
   "outputs": [
    {
     "name": "stdout",
     "output_type": "stream",
     "text": [
      "[[134   4  51 ...   9   3  26]\n",
      " [  4   1   1 ...   0   0   2]\n",
      " [ 27   2  20 ...   3   4   7]\n",
      " ...\n",
      " [  1   0   1 ...   1   0   0]\n",
      " [  4   0   1 ...   0   0   1]\n",
      " [  5   0   8 ...   0   0   3]]\n",
      "the accuracy score of the prediction is:\n"
     ]
    },
    {
     "data": {
      "text/plain": [
       "0.16076487252124647"
      ]
     },
     "execution_count": 171,
     "metadata": {},
     "output_type": "execute_result"
    }
   ],
   "source": [
    "#accuracy_score(y_test, reg_pred)\n",
    "#confussion matrix\n",
    "matrix =confusion_matrix(dct_pred, y_test)\n",
    "print(matrix)\n",
    "# calculate the overall acuracy\n",
    "print(\"the accuracy score of the prediction is:\")\n",
    "accuracy_score(y_test, dct_pred)"
   ]
  }
 ],
 "metadata": {
  "kernelspec": {
   "display_name": "Python 3.10.2 64-bit",
   "language": "python",
   "name": "python3"
  },
  "language_info": {
   "codemirror_mode": {
    "name": "ipython",
    "version": 3
   },
   "file_extension": ".py",
   "mimetype": "text/x-python",
   "name": "python",
   "nbconvert_exporter": "python",
   "pygments_lexer": "ipython3",
   "version": "3.10.2"
  },
  "orig_nbformat": 4,
  "vscode": {
   "interpreter": {
    "hash": "15a89927e34f508953c4804c950d6132b0eb2f45fa9bbb2b5b0b903684a402b1"
   }
  }
 },
 "nbformat": 4,
 "nbformat_minor": 2
}
