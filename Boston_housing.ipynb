{
 "cells": [
  {
   "cell_type": "code",
   "execution_count": 1,
   "metadata": {},
   "outputs": [
    {
     "ename": "ModuleNotFoundError",
     "evalue": "No module named 'pandas'",
     "output_type": "error",
     "traceback": [
      "\u001b[1;31m---------------------------------------------------------------------------\u001b[0m",
      "\u001b[1;31mModuleNotFoundError\u001b[0m                       Traceback (most recent call last)",
      "Cell \u001b[1;32mIn [1], line 1\u001b[0m\n\u001b[1;32m----> 1\u001b[0m \u001b[39mimport\u001b[39;00m \u001b[39mpandas\u001b[39;00m \u001b[39mas\u001b[39;00m \u001b[39mpd\u001b[39;00m \n\u001b[0;32m      2\u001b[0m \u001b[39mimport\u001b[39;00m \u001b[39mnumpy\u001b[39;00m \u001b[39mas\u001b[39;00m \u001b[39mnp\u001b[39;00m \n\u001b[0;32m      3\u001b[0m \u001b[39mimport\u001b[39;00m \u001b[39mmatplotlib\u001b[39;00m\u001b[39m.\u001b[39;00m\u001b[39mpyplot\u001b[39;00m \u001b[39mas\u001b[39;00m \u001b[39mplt\u001b[39;00m \n",
      "\u001b[1;31mModuleNotFoundError\u001b[0m: No module named 'pandas'"
     ]
    }
   ],
   "source": [
    "import pandas as pd \n",
    "import numpy as np \n",
    "import matplotlib.pyplot as plt \n",
    "%matplotlib inline\n",
    "from sklearn.datasets import fetch_california_housing\n",
    "from sklearn.model_selection import train_test_split\n",
    "\n",
    "carli_df = fetch_california_housing(as_frame=True)\n",
    "#print(carli_df.DESCR)\n",
    "#dataset1 = pd.DataFrame(dataset.fetch_california_housing)\n",
    "carli_df.DESCR\n",
    "carli_df.frame.head(5)\n",
    "\n",
    "\n",
    "\n"
   ]
  },
  {
   "cell_type": "code",
   "execution_count": null,
   "metadata": {},
   "outputs": [],
   "source": [
    "#print(carli_df.target.head())"
   ]
  },
  {
   "cell_type": "code",
   "execution_count": null,
   "metadata": {},
   "outputs": [
    {
     "data": {
      "text/plain": [
       "<AxesSubplot:xlabel='MedInc', ylabel='MedHouseVal'>"
      ]
     },
     "execution_count": 4,
     "metadata": {},
     "output_type": "execute_result"
    },
    {
     "data": {
      "image/png": "[encoded data removed]",
      "text/plain": [
       "<Figure size 432x288 with 1 Axes>"
      ]
     },
     "metadata": {
      "needs_background": "light"
     },
     "output_type": "display_data"
    }
   ],
   "source": [
    "import seaborn as sns \n",
    "\n",
    "#carli_df['Price']=carli_df.target\n",
    "#carli_df.frame.info()\n",
    "\n",
    "#check if data is null\n",
    "#carli_df.frame.isnull()\n",
    "#check for corelation\n",
    "carli_df.frame.corr()\n",
    "#sns.pairplot(carli_df.frame, hue= 'MedHouseVal')\n",
    "plt.scatter(carli_df.frame.HouseAge,carli_df.frame.MedHouseVal)\n",
    "plt.xlabel(\"HouseAge\")\n",
    "plt.ylabel(\"MedHouseVal\")\n",
    "sns.regplot(x=\"MedInc\", y=\"MedHouseVal\", data = carli_df.frame)\n"
   ]
  },
  {
   "cell_type": "code",
   "execution_count": null,
   "metadata": {},
   "outputs": [
    {
     "data": {
      "text/html": [
       "<div>\n",
       "<style scoped>\n",
       "    .dataframe tbody tr th:only-of-type {\n",
       "        vertical-align: middle;\n",
       "    }\n",
       "\n",
       "    .dataframe tbody tr th {\n",
       "        vertical-align: top;\n",
       "    }\n",
       "\n",
       "    .dataframe thead th {\n",
       "        text-align: right;\n",
       "    }\n",
       "</style>\n",
       "<table border=\"1\" class=\"dataframe\">\n",
       "  <thead>\n",
       "    <tr style=\"text-align: right;\">\n",
       "      <th></th>\n",
       "      <th>MedInc</th>\n",
       "      <th>HouseAge</th>\n",
       "      <th>AveRooms</th>\n",
       "      <th>AveBedrms</th>\n",
       "      <th>Population</th>\n",
       "      <th>AveOccup</th>\n",
       "      <th>Latitude</th>\n",
       "      <th>Longitude</th>\n",
       "    </tr>\n",
       "  </thead>\n",
       "  <tbody>\n",
       "    <tr>\n",
       "      <th>979</th>\n",
       "      <td>5.5000</td>\n",
       "      <td>10.0</td>\n",
       "      <td>5.837147</td>\n",
       "      <td>1.076716</td>\n",
       "      <td>1813.0</td>\n",
       "      <td>2.440108</td>\n",
       "      <td>37.67</td>\n",
       "      <td>-121.87</td>\n",
       "    </tr>\n",
       "    <tr>\n",
       "      <th>13894</th>\n",
       "      <td>1.5491</td>\n",
       "      <td>9.0</td>\n",
       "      <td>5.641834</td>\n",
       "      <td>1.163324</td>\n",
       "      <td>805.0</td>\n",
       "      <td>2.306590</td>\n",
       "      <td>34.13</td>\n",
       "      <td>-116.35</td>\n",
       "    </tr>\n",
       "    <tr>\n",
       "      <th>14383</th>\n",
       "      <td>4.0268</td>\n",
       "      <td>44.0</td>\n",
       "      <td>5.657718</td>\n",
       "      <td>0.956376</td>\n",
       "      <td>712.0</td>\n",
       "      <td>2.389262</td>\n",
       "      <td>32.74</td>\n",
       "      <td>-117.24</td>\n",
       "    </tr>\n",
       "    <tr>\n",
       "      <th>16425</th>\n",
       "      <td>2.2619</td>\n",
       "      <td>13.0</td>\n",
       "      <td>5.099042</td>\n",
       "      <td>1.142173</td>\n",
       "      <td>1768.0</td>\n",
       "      <td>2.824281</td>\n",
       "      <td>38.13</td>\n",
       "      <td>-121.47</td>\n",
       "    </tr>\n",
       "    <tr>\n",
       "      <th>12478</th>\n",
       "      <td>1.6116</td>\n",
       "      <td>52.0</td>\n",
       "      <td>3.706250</td>\n",
       "      <td>1.065625</td>\n",
       "      <td>1038.0</td>\n",
       "      <td>3.243750</td>\n",
       "      <td>38.59</td>\n",
       "      <td>-121.48</td>\n",
       "    </tr>\n",
       "    <tr>\n",
       "      <th>...</th>\n",
       "      <td>...</td>\n",
       "      <td>...</td>\n",
       "      <td>...</td>\n",
       "      <td>...</td>\n",
       "      <td>...</td>\n",
       "      <td>...</td>\n",
       "      <td>...</td>\n",
       "      <td>...</td>\n",
       "    </tr>\n",
       "    <tr>\n",
       "      <th>1607</th>\n",
       "      <td>2.9167</td>\n",
       "      <td>24.0</td>\n",
       "      <td>4.766719</td>\n",
       "      <td>1.056765</td>\n",
       "      <td>1750.0</td>\n",
       "      <td>1.360809</td>\n",
       "      <td>37.87</td>\n",
       "      <td>-122.08</td>\n",
       "    </tr>\n",
       "    <tr>\n",
       "      <th>3915</th>\n",
       "      <td>3.8516</td>\n",
       "      <td>37.0</td>\n",
       "      <td>5.492958</td>\n",
       "      <td>0.968310</td>\n",
       "      <td>763.0</td>\n",
       "      <td>2.686620</td>\n",
       "      <td>34.19</td>\n",
       "      <td>-118.52</td>\n",
       "    </tr>\n",
       "    <tr>\n",
       "      <th>14729</th>\n",
       "      <td>4.4583</td>\n",
       "      <td>31.0</td>\n",
       "      <td>5.982222</td>\n",
       "      <td>0.988889</td>\n",
       "      <td>1129.0</td>\n",
       "      <td>2.508889</td>\n",
       "      <td>32.80</td>\n",
       "      <td>-117.02</td>\n",
       "    </tr>\n",
       "    <tr>\n",
       "      <th>4367</th>\n",
       "      <td>5.7778</td>\n",
       "      <td>41.0</td>\n",
       "      <td>5.274399</td>\n",
       "      <td>1.046676</td>\n",
       "      <td>1364.0</td>\n",
       "      <td>1.929279</td>\n",
       "      <td>34.10</td>\n",
       "      <td>-118.27</td>\n",
       "    </tr>\n",
       "    <tr>\n",
       "      <th>15715</th>\n",
       "      <td>3.7188</td>\n",
       "      <td>46.0</td>\n",
       "      <td>4.434879</td>\n",
       "      <td>1.024283</td>\n",
       "      <td>761.0</td>\n",
       "      <td>1.679912</td>\n",
       "      <td>37.79</td>\n",
       "      <td>-122.45</td>\n",
       "    </tr>\n",
       "  </tbody>\n",
       "</table>\n",
       "<p>10320 rows × 8 columns</p>\n",
       "</div>"
      ],
      "text/plain": [
       "       MedInc  HouseAge  AveRooms  AveBedrms  Population  AveOccup  Latitude  \\\n",
       "979    5.5000      10.0  5.837147   1.076716      1813.0  2.440108     37.67   \n",
       "13894  1.5491       9.0  5.641834   1.163324       805.0  2.306590     34.13   \n",
       "14383  4.0268      44.0  5.657718   0.956376       712.0  2.389262     32.74   \n",
       "16425  2.2619      13.0  5.099042   1.142173      1768.0  2.824281     38.13   \n",
       "12478  1.6116      52.0  3.706250   1.065625      1038.0  3.243750     38.59   \n",
       "...       ...       ...       ...        ...         ...       ...       ...   \n",
       "1607   2.9167      24.0  4.766719   1.056765      1750.0  1.360809     37.87   \n",
       "3915   3.8516      37.0  5.492958   0.968310       763.0  2.686620     34.19   \n",
       "14729  4.4583      31.0  5.982222   0.988889      1129.0  2.508889     32.80   \n",
       "4367   5.7778      41.0  5.274399   1.046676      1364.0  1.929279     34.10   \n",
       "15715  3.7188      46.0  4.434879   1.024283       761.0  1.679912     37.79   \n",
       "\n",
       "       Longitude  \n",
       "979      -121.87  \n",
       "13894    -116.35  \n",
       "14383    -117.24  \n",
       "16425    -121.47  \n",
       "12478    -121.48  \n",
       "...          ...  \n",
       "1607     -122.08  \n",
       "3915     -118.52  \n",
       "14729    -117.02  \n",
       "4367     -118.27  \n",
       "15715    -122.45  \n",
       "\n",
       "[10320 rows x 8 columns]"
      ]
     },
     "execution_count": 5,
     "metadata": {},
     "output_type": "execute_result"
    }
   ],
   "source": [
    "X=carli_df.frame.iloc[:, :-1]\n",
    "y=carli_df.frame.iloc[:, -1]\n",
    "X_train, X_test, y_test, y_train = train_test_split(X, y, test_size=0.5, random_state=20)\n",
    "X_train\n",
    "#y_test"
   ]
  },
  {
   "cell_type": "code",
   "execution_count": null,
   "metadata": {},
   "outputs": [
    {
     "data": {
      "text/plain": [
       "array([[ 0.86107084, -1.48283096,  0.18950299, ..., -0.10114684,\n",
       "         0.96165107, -1.15408542],\n",
       "       [-1.21730164, -1.56219294,  0.10043794, ..., -0.1254672 ,\n",
       "        -0.70002749,  1.61277624],\n",
       "       [ 0.08609341,  1.21547643,  0.10768138, ..., -0.11040849,\n",
       "        -1.35249449,  1.16666992],\n",
       "       ...,\n",
       "       [ 0.31308415,  0.18377067,  0.25565918, ..., -0.08861826,\n",
       "        -1.32433045,  1.2769434 ],\n",
       "       [ 1.00720764,  0.97739049, -0.06711685, ..., -0.19419495,\n",
       "        -0.71410951,  0.65038958],\n",
       "       [-0.07593011,  1.3742004 , -0.44994828, ..., -0.23961743,\n",
       "         1.01797916, -1.44480639]])"
      ]
     },
     "execution_count": 6,
     "metadata": {},
     "output_type": "execute_result"
    }
   ],
   "source": [
    "#standardizing the dataset to make our independent feature in thesame scale\n",
    "from sklearn.preprocessing import StandardScaler\n",
    "\n",
    "scaler = StandardScaler()\n",
    "X_train = scaler.fit_transform(X_train)\n",
    "X_test = scaler.transform(X_test)\n",
    "X_train"
   ]
  },
  {
   "cell_type": "code",
   "execution_count": null,
   "metadata": {},
   "outputs": [
    {
     "name": "stdout",
     "output_type": "stream",
     "text": [
      "[-0.00750346 -0.00723838 -0.01893529  0.03939783  0.01642749  0.00168324\n",
      "  0.00199802 -0.00011923]\n",
      "2.0613020067829457\n"
     ]
    }
   ],
   "source": [
    "#training the model\n",
    "from sklearn.linear_model import LinearRegression\n",
    "regression = LinearRegression()\n",
    "regression.fit(X_train, y_train) # creates a hyperplane in the train data\n",
    "LinearRegression()\n",
    "print(regression.coef_) #this values are equivalent to the number of independent features\n",
    "print(regression.intercept_)\n"
   ]
  },
  {
   "cell_type": "code",
   "execution_count": null,
   "metadata": {},
   "outputs": [
    {
     "data": {
      "text/plain": [
       "<matplotlib.collections.PathCollection at 0x1e2dc6f2590>"
      ]
     },
     "execution_count": 8,
     "metadata": {},
     "output_type": "execute_result"
    },
    {
     "data": {
      "image/png": "[encoded data removed]",
      "text/plain": [
       "<Figure size 432x288 with 1 Axes>"
      ]
     },
     "metadata": {
      "needs_background": "light"
     },
     "output_type": "display_data"
    }
   ],
   "source": [
    "#Assumptions on performances of linear regression\n",
    "#lets predict with test data\n",
    "reg_pred=regression.predict(X_test)\n",
    "reg_pred\n",
    "plt.scatter(y_test, reg_pred) # plot a scatter for the prediction"
   ]
  },
  {
   "cell_type": "code",
   "execution_count": null,
   "metadata": {},
   "outputs": [
    {
     "data": {
      "text/plain": [
       "979      0.367553\n",
       "13894   -1.427041\n",
       "14383    0.924334\n",
       "16425   -0.831170\n",
       "12478   -1.331631\n",
       "           ...   \n",
       "1607    -1.063701\n",
       "3915     0.013977\n",
       "14729   -0.385440\n",
       "4367     2.063920\n",
       "15715    2.917858\n",
       "Name: MedHouseVal, Length: 10320, dtype: float64"
      ]
     },
     "execution_count": 9,
     "metadata": {},
     "output_type": "execute_result"
    }
   ],
   "source": [
    "#residual prediction = the errors\n",
    "residuals= y_test - reg_pred\n",
    "residuals"
   ]
  },
  {
   "cell_type": "code",
   "execution_count": null,
   "metadata": {},
   "outputs": [
    {
     "data": {
      "text/plain": [
       "<seaborn.axisgrid.FacetGrid at 0x1e2da383040>"
      ]
     },
     "execution_count": 10,
     "metadata": {},
     "output_type": "execute_result"
    },
    {
     "data": {
      "image/png": "[encoded data removed]",
      "text/plain": [
       "<Figure size 360x360 with 1 Axes>"
      ]
     },
     "metadata": {
      "needs_background": "light"
     },
     "output_type": "display_data"
    }
   ],
   "source": [
    "#plot the residuals\n",
    "sns.displot(residuals, kind=\"kde\")"
   ]
  },
  {
   "cell_type": "code",
   "execution_count": null,
   "metadata": {},
   "outputs": [
    {
     "data": {
      "text/plain": [
       "<matplotlib.collections.PathCollection at 0x1e2dfc1cd60>"
      ]
     },
     "execution_count": 11,
     "metadata": {},
     "output_type": "execute_result"
    },
    {
     "data": {
      "image/png": "[encoded data removed]",
      "text/plain": [
       "<Figure size 432x288 with 1 Axes>"
      ]
     },
     "metadata": {
      "needs_background": "light"
     },
     "output_type": "display_data"
    }
   ],
   "source": [
    "# lets calculate the scatter plot with resspect to prediction and residual\n",
    "plt.scatter(residuals, reg_pred)\n"
   ]
  },
  {
   "cell_type": "code",
   "execution_count": null,
   "metadata": {},
   "outputs": [
    {
     "name": "stdout",
     "output_type": "stream",
     "text": [
      "0.9084354868171406\n",
      "1.3288917125654363\n",
      "1.1527756557827877\n"
     ]
    }
   ],
   "source": [
    "from sklearn.metrics import mean_squared_error\n",
    "from sklearn.metrics import mean_absolute_error\n",
    "\n",
    "\n",
    "print(mean_absolute_error(y_test, reg_pred))\n",
    "print(mean_squared_error(y_test, reg_pred))\n",
    "print(np.sqrt(mean_squared_error(y_test, reg_pred)))"
   ]
  },
  {
   "cell_type": "code",
   "execution_count": null,
   "metadata": {},
   "outputs": [
    {
     "name": "stdout",
     "output_type": "stream",
     "text": [
      "-0.00042853551019161884\n"
     ]
    }
   ],
   "source": [
    "from sklearn.metrics import r2_score\n",
    "score =r2_score(y_test, reg_pred)\n",
    "print(score)"
   ]
  }
 ],
 "metadata": {
  "kernelspec": {
   "display_name": "Python 3.10.2 ('.venv': venv)",
   "language": "python",
   "name": "python3"
  },
  "language_info": {
   "codemirror_mode": {
    "name": "ipython",
    "version": 3
   },
   "file_extension": ".py",
   "mimetype": "text/x-python",
   "name": "python",
   "nbconvert_exporter": "python",
   "pygments_lexer": "ipython3",
   "version": "3.10.2"
  },
  "orig_nbformat": 4,
  "vscode": {
   "interpreter": {
    "hash": "909fc98e481828e80e3488f4719b7204f34710f1947f797ff2c73ab94c525b01"
   }
  }
 },
 "nbformat": 4,
 "nbformat_minor": 2
}
