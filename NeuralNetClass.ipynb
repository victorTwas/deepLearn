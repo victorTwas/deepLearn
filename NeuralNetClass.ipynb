{
 "cells": [
  {
   "cell_type": "code",
   "execution_count": 27,
   "metadata": {},
   "outputs": [],
   "source": [
    "import numpy as np \n",
    "import matplotlib.pyplot as plt \n",
    "import pandas as pd \n",
    "import tensorflow as tf \n",
    "from tensorflow import keras \n",
    "\n",
    "fashion_minst = keras.datasets.fashion_mnist  # load the dataset\n",
    "(train_images, train_labels), (test_images, test_labels) = fashion_minst.load_data() #split into training and testing\n",
    "\n",
    "train_images.shape # there are 60,000 images with 28 X 28 pixel=784 pixels\n",
    "train_images[0,23,23] # a look at 1 image 0 at 23 column and 23 row pixels, pixel values are b/t 0 and 255 0=black and 255=white\n",
    "#print(train_images) # multiple images\n",
    "\n",
    "train_labels[:10] # we look at the first 10 labels of the training labels\n",
    "\n",
    "class_names = [ 'T-shirt/Top','Trousers','Pullover','Dress','Coat',\n",
    "               'Sandal','Shirt','Sneaker','Bag','Ankle boot']\n",
    "\n",
    "#plt.figure()\n",
    "#plt.imshow(train_images[4])\n",
    "#plt.colorbar()\n",
    "#plt.grid(False)\n",
    "#plt.show()\n",
    "# Data preprocessing\n",
    "#data preprocessing\n",
    "train_images = train_images /250.0 # scale the pixel values to smaller size between 0 and 1\n",
    "test_images = test_images /250.0\n",
    "\n",
    "\n",
    "# now its the time to build a feed-forward keras sequential model: feed forward neural network\n",
    "# there are other types of model other than sequentioal such as  convolutional\n",
    "model = keras.Sequential([\n",
    "    keras.layers.Flatten(input_shape = (28,28)), # input layer (1)\n",
    "    keras.layers.Dense(128, activation = 'relu'), #hiden layer (2)\n",
    "    keras.layers.Dense(10, activation = 'softmax') #output layer (3)\n",
    "    \n",
    "])\n",
    "\n",
    "# next we compile the model pick the optimizer of our model\n",
    "model.compile(optimizer='adam', # adam is the optimizer that performs the gradient descent used here: their are others too\n",
    "              loss = 'sparse_categorical_crossentropy', #loss \n",
    "              metrics = ['accuracy']) # the output they want to see from the network is accuracy\n",
    "# we can change the values 128, 10 the optmizer, loss in hyper parameter tunning to get our output\n",
    "\n",
    "\n",
    "\n",
    "\n",
    "\n",
    "\n",
    "\n",
    "\n",
    "\n",
    "\n",
    "\n",
    "\n",
    "\n",
    "\n",
    "\n",
    "\n",
    "\n"
   ]
  },
  {
   "cell_type": "code",
   "execution_count": 31,
   "metadata": {},
   "outputs": [
    {
     "name": "stdout",
     "output_type": "stream",
     "text": [
      "Epoch 1/5\n",
      "1875/1875 [==============================] - 8s 4ms/step - loss: 0.3110 - accuracy: 0.8850\n",
      "Epoch 2/5\n",
      "1875/1875 [==============================] - 7s 4ms/step - loss: 0.2921 - accuracy: 0.8923\n",
      "Epoch 3/5\n",
      "1875/1875 [==============================] - 7s 4ms/step - loss: 0.2778 - accuracy: 0.8974\n",
      "Epoch 4/5\n",
      "1875/1875 [==============================] - 8s 4ms/step - loss: 0.2639 - accuracy: 0.9021\n",
      "Epoch 5/5\n",
      "1875/1875 [==============================] - 8s 4ms/step - loss: 0.2574 - accuracy: 0.9060\n"
     ]
    },
    {
     "data": {
      "text/plain": [
       "<keras.callbacks.History at 0x24766cc6140>"
      ]
     },
     "execution_count": 31,
     "metadata": {},
     "output_type": "execute_result"
    }
   ],
   "source": [
    "model.fit(train_images, train_labels, epochs=5)\n"
   ]
  },
  {
   "cell_type": "code",
   "execution_count": 29,
   "metadata": {},
   "outputs": [
    {
     "name": "stdout",
     "output_type": "stream",
     "text": [
      "313/313 [==============================] - 1s 2ms/step - loss: 0.3716 - accuracy: 0.8653\n",
      "test_accuracy: 0.8652999997138977\n"
     ]
    }
   ],
   "source": [
    "test_lost, test_acc = model.evaluate(test_images, test_labels, verbose=1)\n",
    "print('test_accuracy:', test_acc)"
   ]
  },
  {
   "cell_type": "code",
   "execution_count": 30,
   "metadata": {},
   "outputs": [
    {
     "name": "stdout",
     "output_type": "stream",
     "text": [
      "313/313 [==============================] - 1s 2ms/step\n",
      "Shirt\n"
     ]
    },
    {
     "data": {
      "image/png": "[encoded data removed]",
      "text/plain": [
       "<Figure size 432x288 with 2 Axes>"
      ]
     },
     "metadata": {
      "needs_background": "light"
     },
     "output_type": "display_data"
    }
   ],
   "source": [
    "predictions = model.predict(test_images)\n",
    "#print(predictions[0])\n",
    "print(class_names[np.argmax(predictions[7])])\n",
    "plt.figure()\n",
    "plt.imshow(test_images[7])\n",
    "plt.colorbar()\n",
    "plt.grid(False)\n",
    "plt.show()\n"
   ]
  }
 ],
 "metadata": {
  "kernelspec": {
   "display_name": "Python 3.10.2 64-bit",
   "language": "python",
   "name": "python3"
  },
  "language_info": {
   "codemirror_mode": {
    "name": "ipython",
    "version": 3
   },
   "file_extension": ".py",
   "mimetype": "text/x-python",
   "name": "python",
   "nbconvert_exporter": "python",
   "pygments_lexer": "ipython3",
   "version": "3.10.2"
  },
  "orig_nbformat": 4,
  "vscode": {
   "interpreter": {
    "hash": "15a89927e34f508953c4804c950d6132b0eb2f45fa9bbb2b5b0b903684a402b1"
   }
  }
 },
 "nbformat": 4,
 "nbformat_minor": 2
}
